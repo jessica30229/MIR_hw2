{
  "cells": [
    {
      "cell_type": "markdown",
      "metadata": {
        "id": "vFjkodjEXEOM"
      },
      "source": [
        "# hw2"
      ]
    },
    {
      "cell_type": "markdown",
      "metadata": {
        "id": "CrvmIy73W85O"
      },
      "source": [
        "* librosa.feature.fourier_tempogram\n",
        "* librosa.feature.tempogram\n",
        "* librosa.beat.tempo\n",
        "* librosa.beat.beat_track\n",
        "* librosa.tempo_frequencies\n",
        "* librosa.fourier_tempo_frequencies"
      ]
    },
    {
      "cell_type": "markdown",
      "metadata": {
        "id": "M-Y2BIxW8sb3"
      },
      "source": [
        "## pip install"
      ]
    },
    {
      "cell_type": "code",
      "execution_count": 1,
      "metadata": {
        "colab": {
          "base_uri": "https://localhost:8080/"
        },
        "id": "WiUBYbic8tf_",
        "outputId": "d1c44704-d762-4e31-bcb9-ceb47e23636f"
      },
      "outputs": [
        {
          "name": "stdout",
          "output_type": "stream",
          "text": [
            "Looking in indexes: https://pypi.org/simple, https://us-python.pkg.dev/colab-wheels/public/simple/\n",
            "Requirement already satisfied: librosa in /usr/local/lib/python3.7/dist-packages (0.8.1)\n",
            "Requirement already satisfied: decorator>=3.0.0 in /usr/local/lib/python3.7/dist-packages (from librosa) (4.4.2)\n",
            "Requirement already satisfied: joblib>=0.14 in /usr/local/lib/python3.7/dist-packages (from librosa) (1.1.0)\n",
            "Requirement already satisfied: soundfile>=0.10.2 in /usr/local/lib/python3.7/dist-packages (from librosa) (0.10.3.post1)\n",
            "Requirement already satisfied: scikit-learn!=0.19.0,>=0.14.0 in /usr/local/lib/python3.7/dist-packages (from librosa) (1.0.2)\n",
            "Requirement already satisfied: packaging>=20.0 in /usr/local/lib/python3.7/dist-packages (from librosa) (21.3)\n",
            "Requirement already satisfied: audioread>=2.0.0 in /usr/local/lib/python3.7/dist-packages (from librosa) (2.1.9)\n",
            "Requirement already satisfied: pooch>=1.0 in /usr/local/lib/python3.7/dist-packages (from librosa) (1.6.0)\n",
            "Requirement already satisfied: numpy>=1.15.0 in /usr/local/lib/python3.7/dist-packages (from librosa) (1.21.6)\n",
            "Requirement already satisfied: scipy>=1.0.0 in /usr/local/lib/python3.7/dist-packages (from librosa) (1.4.1)\n",
            "Requirement already satisfied: resampy>=0.2.2 in /usr/local/lib/python3.7/dist-packages (from librosa) (0.2.2)\n",
            "Requirement already satisfied: numba>=0.43.0 in /usr/local/lib/python3.7/dist-packages (from librosa) (0.51.2)\n",
            "Requirement already satisfied: llvmlite<0.35,>=0.34.0.dev0 in /usr/local/lib/python3.7/dist-packages (from numba>=0.43.0->librosa) (0.34.0)\n",
            "Requirement already satisfied: setuptools in /usr/local/lib/python3.7/dist-packages (from numba>=0.43.0->librosa) (57.4.0)\n",
            "Requirement already satisfied: pyparsing!=3.0.5,>=2.0.2 in /usr/local/lib/python3.7/dist-packages (from packaging>=20.0->librosa) (3.0.9)\n",
            "Requirement already satisfied: appdirs>=1.3.0 in /usr/local/lib/python3.7/dist-packages (from pooch>=1.0->librosa) (1.4.4)\n",
            "Requirement already satisfied: requests>=2.19.0 in /usr/local/lib/python3.7/dist-packages (from pooch>=1.0->librosa) (2.23.0)\n",
            "Requirement already satisfied: urllib3!=1.25.0,!=1.25.1,<1.26,>=1.21.1 in /usr/local/lib/python3.7/dist-packages (from requests>=2.19.0->pooch>=1.0->librosa) (1.24.3)\n",
            "Requirement already satisfied: certifi>=2017.4.17 in /usr/local/lib/python3.7/dist-packages (from requests>=2.19.0->pooch>=1.0->librosa) (2022.5.18.1)\n",
            "Requirement already satisfied: idna<3,>=2.5 in /usr/local/lib/python3.7/dist-packages (from requests>=2.19.0->pooch>=1.0->librosa) (2.10)\n",
            "Requirement already satisfied: chardet<4,>=3.0.2 in /usr/local/lib/python3.7/dist-packages (from requests>=2.19.0->pooch>=1.0->librosa) (3.0.4)\n",
            "Requirement already satisfied: six>=1.3 in /usr/local/lib/python3.7/dist-packages (from resampy>=0.2.2->librosa) (1.15.0)\n",
            "Requirement already satisfied: threadpoolctl>=2.0.0 in /usr/local/lib/python3.7/dist-packages (from scikit-learn!=0.19.0,>=0.14.0->librosa) (3.1.0)\n",
            "Requirement already satisfied: cffi>=1.0 in /usr/local/lib/python3.7/dist-packages (from soundfile>=0.10.2->librosa) (1.15.0)\n",
            "Requirement already satisfied: pycparser in /usr/local/lib/python3.7/dist-packages (from cffi>=1.0->soundfile>=0.10.2->librosa) (2.21)\n",
            "Looking in indexes: https://pypi.org/simple, https://us-python.pkg.dev/colab-wheels/public/simple/\n",
            "Collecting mir_eval\n",
            "  Downloading mir_eval-0.7.tar.gz (90 kB)\n",
            "\u001b[K     |████████████████████████████████| 90 kB 3.4 MB/s \n",
            "\u001b[?25hRequirement already satisfied: numpy>=1.7.0 in /usr/local/lib/python3.7/dist-packages (from mir_eval) (1.21.6)\n",
            "Requirement already satisfied: scipy>=1.0.0 in /usr/local/lib/python3.7/dist-packages (from mir_eval) (1.4.1)\n",
            "Requirement already satisfied: future in /usr/local/lib/python3.7/dist-packages (from mir_eval) (0.16.0)\n",
            "Requirement already satisfied: six in /usr/local/lib/python3.7/dist-packages (from mir_eval) (1.15.0)\n",
            "Building wheels for collected packages: mir-eval\n",
            "  Building wheel for mir-eval (setup.py) ... \u001b[?25l\u001b[?25hdone\n",
            "  Created wheel for mir-eval: filename=mir_eval-0.7-py3-none-any.whl size=100721 sha256=28e636def5a809ff317f1954fd9b05c9941a9e8e0fb94355394f203958f4a0c8\n",
            "  Stored in directory: /root/.cache/pip/wheels/18/5a/46/d2527ff1fd975e1a793375e6ed763bfe4d3ea396b7cdc470eb\n",
            "Successfully built mir-eval\n",
            "Installing collected packages: mir-eval\n",
            "Successfully installed mir-eval-0.7\n",
            "Looking in indexes: https://pypi.org/simple, https://us-python.pkg.dev/colab-wheels/public/simple/\n",
            "Collecting pretty_midi\n",
            "  Downloading pretty_midi-0.2.9.tar.gz (5.6 MB)\n",
            "\u001b[K     |████████████████████████████████| 5.6 MB 5.2 MB/s \n",
            "\u001b[?25hRequirement already satisfied: numpy>=1.7.0 in /usr/local/lib/python3.7/dist-packages (from pretty_midi) (1.21.6)\n",
            "Collecting mido>=1.1.16\n",
            "  Downloading mido-1.2.10-py2.py3-none-any.whl (51 kB)\n",
            "\u001b[K     |████████████████████████████████| 51 kB 6.2 MB/s \n",
            "\u001b[?25hRequirement already satisfied: six in /usr/local/lib/python3.7/dist-packages (from pretty_midi) (1.15.0)\n",
            "Building wheels for collected packages: pretty-midi\n",
            "  Building wheel for pretty-midi (setup.py) ... \u001b[?25l\u001b[?25hdone\n",
            "  Created wheel for pretty-midi: filename=pretty_midi-0.2.9-py3-none-any.whl size=5591955 sha256=bbc2acc2bccc20ca56167e140b7435f7096885101561e711ab3e83b17ac80144\n",
            "  Stored in directory: /root/.cache/pip/wheels/ad/74/7c/a06473ca8dcb63efb98c1e67667ce39d52100f837835ea18fa\n",
            "Successfully built pretty-midi\n",
            "Installing collected packages: mido, pretty-midi\n",
            "Successfully installed mido-1.2.10 pretty-midi-0.2.9\n"
          ]
        }
      ],
      "source": [
        "!pip3 install librosa\n",
        "!pip3 install mir_eval\n",
        "!pip3 install pretty_midi"
      ]
    },
    {
      "cell_type": "code",
      "execution_count": 2,
      "metadata": {
        "colab": {
          "base_uri": "https://localhost:8080/"
        },
        "id": "V75qWRMU80UC",
        "outputId": "7c6d5fa4-0362-48c6-f449-94b46c964f7e"
      },
      "outputs": [
        {
          "name": "stdout",
          "output_type": "stream",
          "text": [
            "Mounted at /content/drive\n"
          ]
        }
      ],
      "source": [
        "from google.colab import drive\n",
        "drive.mount('/content/drive')"
      ]
    },
    {
      "cell_type": "markdown",
      "metadata": {
        "id": "JYpmuxXG9PCj"
      },
      "source": [
        "## import library"
      ]
    },
    {
      "cell_type": "code",
      "execution_count": 17,
      "metadata": {
        "id": "8Kz9kbr79SEm"
      },
      "outputs": [],
      "source": [
        "import glob\n",
        "import librosa\n",
        "import numpy as np\n",
        "import pandas as pd\n",
        "import scipy\n",
        "from scipy import stats\n",
        "from librosa import display\n",
        "import matplotlib.pyplot as plt\n",
        "import mir_eval\n",
        "import pretty_midi"
      ]
    },
    {
      "cell_type": "markdown",
      "metadata": {
        "id": "ugzoxzHDHQn1"
      },
      "source": [
        "## load dataset"
      ]
    },
    {
      "cell_type": "markdown",
      "metadata": {
        "id": "y8cW2qhWWSwh"
      },
      "source": [
        "### Ballroom"
      ]
    },
    {
      "cell_type": "markdown",
      "metadata": {
        "id": "NYaeqFOeEWAc"
      },
      "source": [
        "* load in all 8 genres of Ballroom \n",
        "dataset"
      ]
    },
    {
      "cell_type": "code",
      "execution_count": null,
      "metadata": {
        "id": "yj5udEg9FW77"
      },
      "outputs": [],
      "source": [
        "ballroom_name = glob.glob(\"/content/drive/MyDrive/Colab Notebooks/MIR/Ballroom/BallroomData/*\")"
      ]
    },
    {
      "cell_type": "code",
      "execution_count": null,
      "metadata": {
        "id": "kS3vVvIKlxUT"
      },
      "outputs": [],
      "source": [
        "ballroom_path = [glob.glob(i+\"/*.wav\") for i in ballroom_name[2:10]]"
      ]
    },
    {
      "cell_type": "code",
      "execution_count": null,
      "metadata": {
        "id": "T7mNJ979Ynov"
      },
      "outputs": [],
      "source": [
        "def get_file_name(filepath):\n",
        "  s = filepath.split('/')[-1].split('.')[0]\n",
        "  return s"
      ]
    },
    {
      "cell_type": "code",
      "execution_count": null,
      "metadata": {
        "id": "7kxgYpNRfN8W"
      },
      "outputs": [],
      "source": [
        "gernes_name = [i.split('/')[-1] for i in ballroom_name[2:10]]"
      ]
    },
    {
      "cell_type": "code",
      "execution_count": null,
      "metadata": {
        "id": "5IB3bBI5axeu"
      },
      "outputs": [],
      "source": [
        "files_name = []\n",
        "for gernes in ballroom_path:\n",
        "  files_name.append([get_file_name(i) for i in gernes])"
      ]
    },
    {
      "cell_type": "code",
      "execution_count": null,
      "metadata": {
        "colab": {
          "base_uri": "https://localhost:8080/"
        },
        "id": "32ur5GZGU5-i",
        "outputId": "bfe1580f-fbac-418c-8b38-eb22ec9fa121"
      },
      "outputs": [
        {
          "data": {
            "text/plain": [
              "['Jive',\n",
              " 'Quickstep',\n",
              " 'Rumba',\n",
              " 'Samba',\n",
              " 'Tango',\n",
              " 'Viennese waltz',\n",
              " 'Waltz',\n",
              " 'ChaCha']"
            ]
          },
          "execution_count": 32,
          "metadata": {},
          "output_type": "execute_result"
        }
      ],
      "source": [
        "gernes_name"
      ]
    },
    {
      "cell_type": "code",
      "execution_count": null,
      "metadata": {
        "colab": {
          "base_uri": "https://localhost:8080/",
          "height": 54
        },
        "id": "Dah5aOcSaSu1",
        "outputId": "f001fd5e-e06c-43d5-9850-26d8ba839fd2"
      },
      "outputs": [
        {
          "data": {
            "application/vnd.google.colaboratory.intrinsic+json": {
              "type": "string"
            },
            "text/plain": [
              "'/content/drive/MyDrive/Colab Notebooks/MIR/Ballroom/BallroomData/Jive/Albums-Cafe_Paradiso-14.wav'"
            ]
          },
          "execution_count": 36,
          "metadata": {},
          "output_type": "execute_result"
        }
      ],
      "source": [
        "ballroom_path[0][0]"
      ]
    },
    {
      "cell_type": "code",
      "execution_count": null,
      "metadata": {
        "colab": {
          "base_uri": "https://localhost:8080/",
          "height": 37
        },
        "id": "v1u66chiaUqB",
        "outputId": "cd0247cf-5211-4674-c8f9-a5e3f56097c4"
      },
      "outputs": [
        {
          "data": {
            "application/vnd.google.colaboratory.intrinsic+json": {
              "type": "string"
            },
            "text/plain": [
              "'Albums-Cafe_Paradiso-14'"
            ]
          },
          "execution_count": 37,
          "metadata": {},
          "output_type": "execute_result"
        }
      ],
      "source": [
        "files_name[0][0]"
      ]
    },
    {
      "cell_type": "code",
      "execution_count": null,
      "metadata": {
        "colab": {
          "base_uri": "https://localhost:8080/"
        },
        "id": "OyLTDGayU7Oz",
        "outputId": "d8dfcfea-b884-4257-b8e8-73e83c786770"
      },
      "outputs": [
        {
          "data": {
            "text/plain": [
              "8"
            ]
          },
          "execution_count": 33,
          "metadata": {},
          "output_type": "execute_result"
        }
      ],
      "source": [
        "len(files_name)"
      ]
    },
    {
      "cell_type": "markdown",
      "metadata": {
        "id": "vfee7gvAkNeY"
      },
      "source": [
        "* load beat file"
      ]
    },
    {
      "cell_type": "code",
      "execution_count": null,
      "metadata": {
        "id": "5sWjTKYxkRVu"
      },
      "outputs": [],
      "source": [
        "all_beat_num = []\n",
        "for gernes in files_name:\n",
        "  beat_num = []\n",
        "  for i in gernes:\n",
        "    n = pd.read_csv(\"/content/drive/MyDrive/Colab Notebooks/MIR/Ballroom/BallroomAnnotations-master/\"+i+\".beats\", sep=\" \", header=None)\n",
        "    beat_num.append(n[0])\n",
        "  all_beat_num.append(beat_num)"
      ]
    },
    {
      "cell_type": "code",
      "execution_count": null,
      "metadata": {
        "colab": {
          "base_uri": "https://localhost:8080/"
        },
        "id": "hm2Ew3YonpNw",
        "outputId": "f35f145f-668d-4042-cf42-2f31792144cd"
      },
      "outputs": [
        {
          "data": {
            "text/plain": [
              "0      0.840\n",
              "1      1.197\n",
              "2      1.557\n",
              "3      1.907\n",
              "4      2.270\n",
              "       ...  \n",
              "79    28.467\n",
              "80    28.813\n",
              "81    29.157\n",
              "82    29.503\n",
              "83    29.850\n",
              "Name: 0, Length: 84, dtype: float64"
            ]
          },
          "execution_count": 69,
          "metadata": {},
          "output_type": "execute_result"
        }
      ],
      "source": [
        "all_beat_num[0][0]"
      ]
    },
    {
      "cell_type": "markdown",
      "metadata": {
        "id": "DClNv8zX7PYp"
      },
      "source": [
        "fix bug"
      ]
    },
    {
      "cell_type": "code",
      "execution_count": null,
      "metadata": {
        "id": "xZVQWa-k7Tm8"
      },
      "outputs": [],
      "source": [
        "all_beat_num[7][72] = [i.split('\\t')[0] for i in all_beat_num[7][72]]"
      ]
    },
    {
      "cell_type": "code",
      "execution_count": null,
      "metadata": {
        "id": "PZpUoOGM-H1a"
      },
      "outputs": [],
      "source": [
        "all_beat_num[7][72] = [float(i) for i in all_beat_num[7][72]]"
      ]
    },
    {
      "cell_type": "markdown",
      "metadata": {
        "id": "kls3lmfoZGnz"
      },
      "source": [
        "### JCS"
      ]
    },
    {
      "cell_type": "code",
      "execution_count": 23,
      "metadata": {
        "id": "wBsOK-k8ZlG5"
      },
      "outputs": [],
      "source": [
        "JSC_filepath = glob.glob(\"/content/drive/MyDrive/Colab Notebooks/MIR/JCS_dataset/audio/*.mp3\")"
      ]
    },
    {
      "cell_type": "code",
      "execution_count": 15,
      "metadata": {
        "id": "MTOBpXyxeOH-"
      },
      "outputs": [],
      "source": [
        "def get_file_name(filepath):\n",
        "  s = filepath.split('/')[-1].split('.')[0]\n",
        "  return s"
      ]
    },
    {
      "cell_type": "code",
      "execution_count": 33,
      "metadata": {
        "id": "XOVi7alBgUpF"
      },
      "outputs": [],
      "source": [
        "files_name = [get_file_name(i) for i in JSC_filepath]"
      ]
    },
    {
      "cell_type": "code",
      "execution_count": 37,
      "metadata": {
        "id": "yBJOPRTDh_Aj"
      },
      "outputs": [],
      "source": [
        "all_beat_num = []\n",
        "for i in files_name:\n",
        "  n = pd.read_csv(\"/content/drive/MyDrive/Colab Notebooks/MIR/JCS_dataset/annotations/\"+i+\"_beats.txt\", sep=\" \", header=None)\n",
        "  all_beat_num.append(n[0])"
      ]
    },
    {
      "cell_type": "code",
      "execution_count": 42,
      "metadata": {
        "id": "u9lC5REhitx7"
      },
      "outputs": [],
      "source": [
        "all_beat_num_n = []\n",
        "for all in all_beat_num:\n",
        "  all_beat_num_n.append([float(i.split('\\t')[0]) for i in all])"
      ]
    },
    {
      "cell_type": "markdown",
      "metadata": {},
      "source": [
        "### SMC"
      ]
    },
    {
      "cell_type": "code",
      "execution_count": 11,
      "metadata": {},
      "outputs": [],
      "source": [
        "SMC_wav_path = glob.glob(\"./SMC_MIREX/SMC_MIREX_Audio/*.wav\")"
      ]
    },
    {
      "cell_type": "code",
      "execution_count": 5,
      "metadata": {},
      "outputs": [],
      "source": [
        "def get_file_name(filepath):\n",
        "  s = filepath.split('/')[-1].split('.')[0]\n",
        "  return s"
      ]
    },
    {
      "cell_type": "code",
      "execution_count": 13,
      "metadata": {},
      "outputs": [],
      "source": [
        "files_name = [get_file_name(i) for i in SMC_wav_path]"
      ]
    },
    {
      "cell_type": "code",
      "execution_count": 26,
      "metadata": {},
      "outputs": [],
      "source": [
        "SMC_beat_path = [glob.glob(\"SMC_MIREX/SMC_MIREX_Annotations_05_08_2014/\"+i+\"*.txt\")[0] for i in files_name]"
      ]
    },
    {
      "cell_type": "code",
      "execution_count": 35,
      "metadata": {},
      "outputs": [],
      "source": [
        "n = pd.read_csv(SMC_beat_path[0], sep=\" \", header=None)"
      ]
    },
    {
      "cell_type": "code",
      "execution_count": 37,
      "metadata": {},
      "outputs": [],
      "source": [
        "all_beat_num = []\n",
        "for i in SMC_beat_path:\n",
        "  n = pd.read_csv(i, sep=\" \", header=None)\n",
        "  all_beat_num.append(n[0])"
      ]
    },
    {
      "cell_type": "markdown",
      "metadata": {},
      "source": [
        "### ASAP"
      ]
    },
    {
      "cell_type": "code",
      "execution_count": 45,
      "metadata": {},
      "outputs": [],
      "source": [
        "ASAP_name = glob.glob(\"./ASAP/*\")"
      ]
    },
    {
      "cell_type": "code",
      "execution_count": 98,
      "metadata": {},
      "outputs": [],
      "source": [
        "def get_gerne_name(filepath):\n",
        "  s = filepath.split('/')[-1]\n",
        "  return s"
      ]
    },
    {
      "cell_type": "code",
      "execution_count": 101,
      "metadata": {},
      "outputs": [],
      "source": [
        "l = [get_gerne_name(i) for i in ASAP_name]"
      ]
    },
    {
      "cell_type": "code",
      "execution_count": 41,
      "metadata": {},
      "outputs": [],
      "source": [
        "ASAP_wav_path = [glob.glob(i+\"/wav/*.wav\") for i in ASAP_name]"
      ]
    },
    {
      "cell_type": "code",
      "execution_count": 46,
      "metadata": {},
      "outputs": [],
      "source": [
        "def get_file_name(filepath):\n",
        "  s = filepath.split('/')[-1].split('.')[0]\n",
        "  return s"
      ]
    },
    {
      "cell_type": "code",
      "execution_count": 47,
      "metadata": {},
      "outputs": [],
      "source": [
        "files_name = []\n",
        "for genres in ASAP_wav_path:\n",
        "    files_name.append([get_file_name(i) for i in genres])"
      ]
    },
    {
      "cell_type": "code",
      "execution_count": 9,
      "metadata": {},
      "outputs": [],
      "source": [
        "ASAP_wav_anno_path = []\n",
        "for name, genres in zip(ASAP_name[0:3], files_name[0:3]):\n",
        "    ASAP_wav_anno_path.append([glob.glob(name+\"/annotation/\"+i+\"_annotations.txt\")[0] for i in genres])"
      ]
    },
    {
      "cell_type": "code",
      "execution_count": 10,
      "metadata": {},
      "outputs": [],
      "source": [
        "ASAP_wav_path = ASAP_wav_path[0:3]"
      ]
    },
    {
      "cell_type": "code",
      "execution_count": 11,
      "metadata": {},
      "outputs": [],
      "source": [
        "all_beat_num = []\n",
        "for gernes in ASAP_wav_anno_path:\n",
        "  beat_num = []\n",
        "  for i in gernes:\n",
        "    n = pd.read_csv(i, sep=\"\\t\", header=None)\n",
        "    beat_num.append(n[0])\n",
        "  all_beat_num.append(beat_num)"
      ]
    },
    {
      "cell_type": "markdown",
      "metadata": {},
      "source": [
        "* midi"
      ]
    },
    {
      "cell_type": "code",
      "execution_count": 12,
      "metadata": {},
      "outputs": [],
      "source": [
        "ASAP_mid_path = [glob.glob(i+\"/mid/*.mid\") for i in ASAP_name[3:5]]"
      ]
    },
    {
      "cell_type": "code",
      "execution_count": 89,
      "metadata": {},
      "outputs": [
        {
          "name": "stdout",
          "output_type": "stream",
          "text": [
            "./ASAP/Prokofiev ['Dossin07', 'Song04', 'Fab13', 'Teo05', 'Kociuban16', 'Colafelice11', 'Guo04', 'Lin06']\n",
            "./ASAP/Brahms ['Shilyaev03']\n"
          ]
        }
      ],
      "source": [
        "ASAP_mid_anno_path = []\n",
        "for name, genres in zip(ASAP_name[3:5], files_name):\n",
        "    print(name, genres)\n",
        "    ASAP_mid_anno_path.append([glob.glob(name+\"/annotation/\"+i+\"_annotations.txt\")[0] for i in genres])"
      ]
    },
    {
      "cell_type": "code",
      "execution_count": 90,
      "metadata": {},
      "outputs": [],
      "source": [
        "all_mid_beat_num = []\n",
        "for gernes in ASAP_mid_anno_path:\n",
        "    beat_num = []\n",
        "    for i in gernes:\n",
        "        n = pd.read_csv(i, sep=\"\\t\", header=None)\n",
        "        beat_num.append(n[0])\n",
        "    all_mid_beat_num.append(beat_num)"
      ]
    },
    {
      "cell_type": "markdown",
      "metadata": {
        "id": "k38ov4ixXJZl"
      },
      "source": [
        "## Task 2: using dynamic programming for beat tracking\n"
      ]
    },
    {
      "cell_type": "markdown",
      "metadata": {
        "id": "qV1plx47YvyV"
      },
      "source": [
        "### Q4 (20%)"
      ]
    },
    {
      "cell_type": "markdown",
      "metadata": {
        "id": "8XUFcHT2Y2Eo"
      },
      "source": [
        "Using librosa.beat.beat_track to find the beat positions of a song. **Evaluate this beat tracking algorithm on the Ballroom dataset.**"
      ]
    },
    {
      "cell_type": "markdown",
      "metadata": {
        "id": "mZTLthmSaids"
      },
      "source": [
        "This process can be done with mir_eval.beat. **Please compute the average F-scores of the eight genres in the Ballroom dataset and discuss the results.**"
      ]
    },
    {
      "cell_type": "markdown",
      "metadata": {
        "id": "KXhSqaQrAivV"
      },
      "source": [
        "#### code"
      ]
    },
    {
      "cell_type": "code",
      "execution_count": 48,
      "metadata": {
        "id": "ZSKoAftPabOj"
      },
      "outputs": [],
      "source": [
        "def f_scores(wavpath, beat):\n",
        "  y, sr = librosa.load(wavpath)\n",
        "  tempo, beats = librosa.beat.beat_track(y=y, sr=sr)\n",
        "  e = librosa.frames_to_time(beats, sr=sr)\n",
        "  r = np.array(beat)\n",
        "  f = mir_eval.beat.f_measure(r, e)\n",
        "  return f"
      ]
    },
    {
      "cell_type": "code",
      "execution_count": 49,
      "metadata": {
        "id": "99I9NCWicmvy"
      },
      "outputs": [],
      "source": [
        "def avg_f_scores(gernepaths, beats):\n",
        "  length = len(gernepaths)\n",
        "  f_list = [f_scores(gernepaths[i], beats[i]) for i in range(0, length)]\n",
        "  ans = sum(f_list)/length\n",
        "  print(sum(f_list), length, ans)\n",
        "  return ans"
      ]
    },
    {
      "cell_type": "code",
      "execution_count": null,
      "metadata": {
        "id": "UUuh3GnPmIlO"
      },
      "outputs": [],
      "source": [
        "Fourier_ans_list = []\n",
        "auto_ans_list = []\n",
        "for g, b in zip(ballroom_path, all_beat_num):\n",
        "  Fourier_ans_list.append(avg_f_scores(g, b, True))\n",
        "  auto_ans_list.append(avg_f_scores(g, b, None))"
      ]
    },
    {
      "cell_type": "code",
      "execution_count": null,
      "metadata": {
        "colab": {
          "base_uri": "https://localhost:8080/"
        },
        "id": "u3nwmseI8oO_",
        "outputId": "7ffca2e1-9f3e-45c0-d224-d44dc2642357"
      },
      "outputs": [
        {
          "name": "stdout",
          "output_type": "stream",
          "text": [
            "100.22747951184282 111 0.9029502658724577\n"
          ]
        }
      ],
      "source": [
        "lastavg_f = avg_f_scores(ballroom_path[7], all_beat_num[7])"
      ]
    },
    {
      "cell_type": "markdown",
      "metadata": {
        "id": "rkzVts8UAdrO"
      },
      "source": [
        "#### show the results"
      ]
    },
    {
      "cell_type": "code",
      "execution_count": null,
      "metadata": {
        "id": "ELZ1O5vI_PUb"
      },
      "outputs": [],
      "source": [
        "results = pd.read_csv(\"/content/task2_q4_result.txt\", header=None, sep=\" \")"
      ]
    },
    {
      "cell_type": "code",
      "execution_count": null,
      "metadata": {
        "id": "LJjjyup5oWoS"
      },
      "outputs": [],
      "source": [
        "df_Q4 = pd.DataFrame(results[2])\n",
        "df_Q4.columns = ['f score']\n",
        "df_Q4.index = gernes_name"
      ]
    },
    {
      "cell_type": "code",
      "execution_count": null,
      "metadata": {
        "colab": {
          "base_uri": "https://localhost:8080/",
          "height": 297
        },
        "id": "N5bdv_cXASs7",
        "outputId": "7ed0f01c-6b3f-401b-d17c-1c52e1dbdee6"
      },
      "outputs": [
        {
          "data": {
            "text/html": [
              "\n",
              "  <div id=\"df-dc78eca4-67d4-483b-9c1f-50815c42c390\">\n",
              "    <div class=\"colab-df-container\">\n",
              "      <div>\n",
              "<style scoped>\n",
              "    .dataframe tbody tr th:only-of-type {\n",
              "        vertical-align: middle;\n",
              "    }\n",
              "\n",
              "    .dataframe tbody tr th {\n",
              "        vertical-align: top;\n",
              "    }\n",
              "\n",
              "    .dataframe thead th {\n",
              "        text-align: right;\n",
              "    }\n",
              "</style>\n",
              "<table border=\"1\" class=\"dataframe\">\n",
              "  <thead>\n",
              "    <tr style=\"text-align: right;\">\n",
              "      <th></th>\n",
              "      <th>f score</th>\n",
              "    </tr>\n",
              "  </thead>\n",
              "  <tbody>\n",
              "    <tr>\n",
              "      <th>Jive</th>\n",
              "      <td>0.665217</td>\n",
              "    </tr>\n",
              "    <tr>\n",
              "      <th>Quickstep</th>\n",
              "      <td>0.621322</td>\n",
              "    </tr>\n",
              "    <tr>\n",
              "      <th>Rumba</th>\n",
              "      <td>0.799841</td>\n",
              "    </tr>\n",
              "    <tr>\n",
              "      <th>Samba</th>\n",
              "      <td>0.573509</td>\n",
              "    </tr>\n",
              "    <tr>\n",
              "      <th>Tango</th>\n",
              "      <td>0.803999</td>\n",
              "    </tr>\n",
              "    <tr>\n",
              "      <th>Viennese waltz</th>\n",
              "      <td>0.742469</td>\n",
              "    </tr>\n",
              "    <tr>\n",
              "      <th>Waltz</th>\n",
              "      <td>0.648715</td>\n",
              "    </tr>\n",
              "    <tr>\n",
              "      <th>ChaCha</th>\n",
              "      <td>0.902950</td>\n",
              "    </tr>\n",
              "  </tbody>\n",
              "</table>\n",
              "</div>\n",
              "      <button class=\"colab-df-convert\" onclick=\"convertToInteractive('df-dc78eca4-67d4-483b-9c1f-50815c42c390')\"\n",
              "              title=\"Convert this dataframe to an interactive table.\"\n",
              "              style=\"display:none;\">\n",
              "        \n",
              "  <svg xmlns=\"http://www.w3.org/2000/svg\" height=\"24px\"viewBox=\"0 0 24 24\"\n",
              "       width=\"24px\">\n",
              "    <path d=\"M0 0h24v24H0V0z\" fill=\"none\"/>\n",
              "    <path d=\"M18.56 5.44l.94 2.06.94-2.06 2.06-.94-2.06-.94-.94-2.06-.94 2.06-2.06.94zm-11 1L8.5 8.5l.94-2.06 2.06-.94-2.06-.94L8.5 2.5l-.94 2.06-2.06.94zm10 10l.94 2.06.94-2.06 2.06-.94-2.06-.94-.94-2.06-.94 2.06-2.06.94z\"/><path d=\"M17.41 7.96l-1.37-1.37c-.4-.4-.92-.59-1.43-.59-.52 0-1.04.2-1.43.59L10.3 9.45l-7.72 7.72c-.78.78-.78 2.05 0 2.83L4 21.41c.39.39.9.59 1.41.59.51 0 1.02-.2 1.41-.59l7.78-7.78 2.81-2.81c.8-.78.8-2.07 0-2.86zM5.41 20L4 18.59l7.72-7.72 1.47 1.35L5.41 20z\"/>\n",
              "  </svg>\n",
              "      </button>\n",
              "      \n",
              "  <style>\n",
              "    .colab-df-container {\n",
              "      display:flex;\n",
              "      flex-wrap:wrap;\n",
              "      gap: 12px;\n",
              "    }\n",
              "\n",
              "    .colab-df-convert {\n",
              "      background-color: #E8F0FE;\n",
              "      border: none;\n",
              "      border-radius: 50%;\n",
              "      cursor: pointer;\n",
              "      display: none;\n",
              "      fill: #1967D2;\n",
              "      height: 32px;\n",
              "      padding: 0 0 0 0;\n",
              "      width: 32px;\n",
              "    }\n",
              "\n",
              "    .colab-df-convert:hover {\n",
              "      background-color: #E2EBFA;\n",
              "      box-shadow: 0px 1px 2px rgba(60, 64, 67, 0.3), 0px 1px 3px 1px rgba(60, 64, 67, 0.15);\n",
              "      fill: #174EA6;\n",
              "    }\n",
              "\n",
              "    [theme=dark] .colab-df-convert {\n",
              "      background-color: #3B4455;\n",
              "      fill: #D2E3FC;\n",
              "    }\n",
              "\n",
              "    [theme=dark] .colab-df-convert:hover {\n",
              "      background-color: #434B5C;\n",
              "      box-shadow: 0px 1px 3px 1px rgba(0, 0, 0, 0.15);\n",
              "      filter: drop-shadow(0px 1px 2px rgba(0, 0, 0, 0.3));\n",
              "      fill: #FFFFFF;\n",
              "    }\n",
              "  </style>\n",
              "\n",
              "      <script>\n",
              "        const buttonEl =\n",
              "          document.querySelector('#df-dc78eca4-67d4-483b-9c1f-50815c42c390 button.colab-df-convert');\n",
              "        buttonEl.style.display =\n",
              "          google.colab.kernel.accessAllowed ? 'block' : 'none';\n",
              "\n",
              "        async function convertToInteractive(key) {\n",
              "          const element = document.querySelector('#df-dc78eca4-67d4-483b-9c1f-50815c42c390');\n",
              "          const dataTable =\n",
              "            await google.colab.kernel.invokeFunction('convertToInteractive',\n",
              "                                                     [key], {});\n",
              "          if (!dataTable) return;\n",
              "\n",
              "          const docLinkHtml = 'Like what you see? Visit the ' +\n",
              "            '<a target=\"_blank\" href=https://colab.research.google.com/notebooks/data_table.ipynb>data table notebook</a>'\n",
              "            + ' to learn more about interactive tables.';\n",
              "          element.innerHTML = '';\n",
              "          dataTable['output_type'] = 'display_data';\n",
              "          await google.colab.output.renderOutput(dataTable, element);\n",
              "          const docLink = document.createElement('div');\n",
              "          docLink.innerHTML = docLinkHtml;\n",
              "          element.appendChild(docLink);\n",
              "        }\n",
              "      </script>\n",
              "    </div>\n",
              "  </div>\n",
              "  "
            ],
            "text/plain": [
              "                 f score\n",
              "Jive            0.665217\n",
              "Quickstep       0.621322\n",
              "Rumba           0.799841\n",
              "Samba           0.573509\n",
              "Tango           0.803999\n",
              "Viennese waltz  0.742469\n",
              "Waltz           0.648715\n",
              "ChaCha          0.902950"
            ]
          },
          "execution_count": 148,
          "metadata": {},
          "output_type": "execute_result"
        }
      ],
      "source": [
        "df_Q4"
      ]
    },
    {
      "cell_type": "code",
      "execution_count": null,
      "metadata": {
        "colab": {
          "base_uri": "https://localhost:8080/",
          "height": 346
        },
        "id": "97zhlTeyAbuB",
        "outputId": "6358b4ba-3a64-49be-ba42-4cff20d4dd11"
      },
      "outputs": [
        {
          "data": {
            "image/png": "[encoded data removed]",
            "text/plain": [
              "<Figure size 432x288 with 1 Axes>"
            ]
          },
          "metadata": {
            "needs_background": "light"
          },
          "output_type": "display_data"
        }
      ],
      "source": [
        "plot = df_Q4.plot(kind = \"bar\", title = \"The average F-scores of the eight genres in the Ballroom dataset\")"
      ]
    },
    {
      "cell_type": "code",
      "execution_count": null,
      "metadata": {
        "id": "5WJfC3Y4BuXn"
      },
      "outputs": [],
      "source": [
        "fig = plot.get_figure()\n",
        "fig.savefig(\"Q4.png\")"
      ]
    },
    {
      "cell_type": "markdown",
      "metadata": {
        "id": "JBawSqf-atKz"
      },
      "source": [
        "### Q5 (20%) "
      ]
    },
    {
      "cell_type": "markdown",
      "metadata": {
        "id": "xcGVk5Yx7zun"
      },
      "source": [
        "Also use this algorithm on the **SMC, JCS, and ASAP datasets**. Compare and discuss the results together with the results of the Ballroom dataset. Could you explain the difference in performance?"
      ]
    },
    {
      "cell_type": "markdown",
      "metadata": {
        "id": "axLGAzjwCunT"
      },
      "source": [
        "#### SMC"
      ]
    },
    {
      "cell_type": "code",
      "execution_count": 29,
      "metadata": {},
      "outputs": [],
      "source": [
        "def f_scores(wavpath, beat):\n",
        "  y, sr = librosa.load(wavpath)\n",
        "  tempo, beats = librosa.beat.beat_track(y=y, sr=sr)\n",
        "  e = librosa.frames_to_time(beats, sr=sr)\n",
        "  r = np.array(beat)\n",
        "  f = mir_eval.beat.f_measure(r, e)\n",
        "  return f"
      ]
    },
    {
      "cell_type": "code",
      "execution_count": 41,
      "metadata": {},
      "outputs": [],
      "source": [
        "length = len(SMC_wav_path)\n",
        "f_list = [f_scores(SMC_wav_path[i], all_beat_num[i]) for i in range(0, length)]"
      ]
    },
    {
      "cell_type": "code",
      "execution_count": 42,
      "metadata": {},
      "outputs": [],
      "source": [
        "Q4_ans_s_df = pd.DataFrame(f_list)\n",
        "Q4_ans_s_df.index = files_name\n",
        "Q4_ans_s_df.to_csv(\"Q4_ans_s_df.csv\")"
      ]
    },
    {
      "cell_type": "code",
      "execution_count": 44,
      "metadata": {},
      "outputs": [],
      "source": [
        "Q4_ans_s = sum(f_list)/length"
      ]
    },
    {
      "cell_type": "markdown",
      "metadata": {
        "id": "axLGAzjwCunT"
      },
      "source": [
        "#### JCS"
      ]
    },
    {
      "cell_type": "code",
      "execution_count": 58,
      "metadata": {
        "id": "oYrFNDVkncJ_"
      },
      "outputs": [],
      "source": [
        "def f_scores(wavpath, beat):\n",
        "  y, sr = librosa.load(wavpath)\n",
        "  tempo, beats = librosa.beat.beat_track(y=y, sr=sr)\n",
        "  e = librosa.frames_to_time(beats, sr=sr)\n",
        "  r = np.array(beat)\n",
        "  f = mir_eval.beat.f_measure(r, e)\n",
        "  return f"
      ]
    },
    {
      "cell_type": "code",
      "execution_count": 59,
      "metadata": {
        "colab": {
          "base_uri": "https://localhost:8080/"
        },
        "id": "JmqsN4jwndkz",
        "outputId": "8260c72b-192e-4b37-c695-73b40ed6fe19"
      },
      "outputs": [
        {
          "name": "stderr",
          "output_type": "stream",
          "text": [
            "/usr/local/lib/python3.7/dist-packages/librosa/core/audio.py:165: UserWarning: PySoundFile failed. Trying audioread instead.\n",
            "  warnings.warn(\"PySoundFile failed. Trying audioread instead.\")\n",
            "/usr/local/lib/python3.7/dist-packages/librosa/core/audio.py:165: UserWarning: PySoundFile failed. Trying audioread instead.\n",
            "  warnings.warn(\"PySoundFile failed. Trying audioread instead.\")\n",
            "/usr/local/lib/python3.7/dist-packages/librosa/core/audio.py:165: UserWarning: PySoundFile failed. Trying audioread instead.\n",
            "  warnings.warn(\"PySoundFile failed. Trying audioread instead.\")\n",
            "/usr/local/lib/python3.7/dist-packages/librosa/core/audio.py:165: UserWarning: PySoundFile failed. Trying audioread instead.\n",
            "  warnings.warn(\"PySoundFile failed. Trying audioread instead.\")\n",
            "/usr/local/lib/python3.7/dist-packages/librosa/core/audio.py:165: UserWarning: PySoundFile failed. Trying audioread instead.\n",
            "  warnings.warn(\"PySoundFile failed. Trying audioread instead.\")\n",
            "/usr/local/lib/python3.7/dist-packages/librosa/core/audio.py:165: UserWarning: PySoundFile failed. Trying audioread instead.\n",
            "  warnings.warn(\"PySoundFile failed. Trying audioread instead.\")\n",
            "/usr/local/lib/python3.7/dist-packages/librosa/core/audio.py:165: UserWarning: PySoundFile failed. Trying audioread instead.\n",
            "  warnings.warn(\"PySoundFile failed. Trying audioread instead.\")\n",
            "/usr/local/lib/python3.7/dist-packages/librosa/core/audio.py:165: UserWarning: PySoundFile failed. Trying audioread instead.\n",
            "  warnings.warn(\"PySoundFile failed. Trying audioread instead.\")\n",
            "/usr/local/lib/python3.7/dist-packages/librosa/core/audio.py:165: UserWarning: PySoundFile failed. Trying audioread instead.\n",
            "  warnings.warn(\"PySoundFile failed. Trying audioread instead.\")\n",
            "/usr/local/lib/python3.7/dist-packages/librosa/core/audio.py:165: UserWarning: PySoundFile failed. Trying audioread instead.\n",
            "  warnings.warn(\"PySoundFile failed. Trying audioread instead.\")\n",
            "/usr/local/lib/python3.7/dist-packages/librosa/core/audio.py:165: UserWarning: PySoundFile failed. Trying audioread instead.\n",
            "  warnings.warn(\"PySoundFile failed. Trying audioread instead.\")\n",
            "/usr/local/lib/python3.7/dist-packages/librosa/core/audio.py:165: UserWarning: PySoundFile failed. Trying audioread instead.\n",
            "  warnings.warn(\"PySoundFile failed. Trying audioread instead.\")\n",
            "/usr/local/lib/python3.7/dist-packages/librosa/core/audio.py:165: UserWarning: PySoundFile failed. Trying audioread instead.\n",
            "  warnings.warn(\"PySoundFile failed. Trying audioread instead.\")\n",
            "/usr/local/lib/python3.7/dist-packages/librosa/core/audio.py:165: UserWarning: PySoundFile failed. Trying audioread instead.\n",
            "  warnings.warn(\"PySoundFile failed. Trying audioread instead.\")\n",
            "/usr/local/lib/python3.7/dist-packages/librosa/core/audio.py:165: UserWarning: PySoundFile failed. Trying audioread instead.\n",
            "  warnings.warn(\"PySoundFile failed. Trying audioread instead.\")\n",
            "/usr/local/lib/python3.7/dist-packages/librosa/core/audio.py:165: UserWarning: PySoundFile failed. Trying audioread instead.\n",
            "  warnings.warn(\"PySoundFile failed. Trying audioread instead.\")\n",
            "/usr/local/lib/python3.7/dist-packages/librosa/core/audio.py:165: UserWarning: PySoundFile failed. Trying audioread instead.\n",
            "  warnings.warn(\"PySoundFile failed. Trying audioread instead.\")\n",
            "/usr/local/lib/python3.7/dist-packages/librosa/core/audio.py:165: UserWarning: PySoundFile failed. Trying audioread instead.\n",
            "  warnings.warn(\"PySoundFile failed. Trying audioread instead.\")\n",
            "/usr/local/lib/python3.7/dist-packages/librosa/core/audio.py:165: UserWarning: PySoundFile failed. Trying audioread instead.\n",
            "  warnings.warn(\"PySoundFile failed. Trying audioread instead.\")\n",
            "/usr/local/lib/python3.7/dist-packages/librosa/core/audio.py:165: UserWarning: PySoundFile failed. Trying audioread instead.\n",
            "  warnings.warn(\"PySoundFile failed. Trying audioread instead.\")\n",
            "/usr/local/lib/python3.7/dist-packages/librosa/core/audio.py:165: UserWarning: PySoundFile failed. Trying audioread instead.\n",
            "  warnings.warn(\"PySoundFile failed. Trying audioread instead.\")\n",
            "/usr/local/lib/python3.7/dist-packages/librosa/core/audio.py:165: UserWarning: PySoundFile failed. Trying audioread instead.\n",
            "  warnings.warn(\"PySoundFile failed. Trying audioread instead.\")\n",
            "/usr/local/lib/python3.7/dist-packages/librosa/core/audio.py:165: UserWarning: PySoundFile failed. Trying audioread instead.\n",
            "  warnings.warn(\"PySoundFile failed. Trying audioread instead.\")\n"
          ]
        }
      ],
      "source": [
        "length = len(JSC_filepath)\n",
        "f_list = [f_scores(JSC_filepath[i], all_beat_num_n[i]) for i in range(0, length)]"
      ]
    },
    {
      "cell_type": "code",
      "execution_count": 63,
      "metadata": {
        "id": "qn9iuCrdqP2X"
      },
      "outputs": [],
      "source": [
        "Q4_ans_j_df = pd.DataFrame(f_list)\n",
        "Q4_ans_j_df.index = files_name\n",
        "Q4_ans_j_df.to_csv(\"Q4_ans_j_df_j.csv\")"
      ]
    },
    {
      "cell_type": "code",
      "execution_count": 61,
      "metadata": {
        "id": "a1GmMQCCCt8z"
      },
      "outputs": [],
      "source": [
        "Q4_ans_j = sum(f_list)/length"
      ]
    },
    {
      "cell_type": "code",
      "execution_count": 62,
      "metadata": {
        "colab": {
          "base_uri": "https://localhost:8080/"
        },
        "id": "uci92nh-nT5b",
        "outputId": "c8e3ba76-95f8-4dc0-b25a-9f24ea8196a3"
      },
      "outputs": [
        {
          "data": {
            "text/plain": [
              "0.6502826555942093"
            ]
          },
          "execution_count": 62,
          "metadata": {},
          "output_type": "execute_result"
        }
      ],
      "source": [
        "Q4_ans_j"
      ]
    },
    {
      "cell_type": "markdown",
      "metadata": {},
      "source": [
        "#### ASAP"
      ]
    },
    {
      "cell_type": "code",
      "execution_count": 3,
      "metadata": {},
      "outputs": [],
      "source": [
        "def f_scores(wavpath, beat, i):\n",
        "  y, sr = librosa.load(wavpath)\n",
        "  tempo, beats = librosa.beat.beat_track(y=y, sr=sr)\n",
        "  e = librosa.frames_to_time(beats, sr=sr)\n",
        "  r = np.array(beat)\n",
        "  f = mir_eval.beat.f_measure(r, e)\n",
        "  print(i, f)\n",
        "  return f"
      ]
    },
    {
      "cell_type": "code",
      "execution_count": 13,
      "metadata": {},
      "outputs": [
        {
          "name": "stdout",
          "output_type": "stream",
          "text": [
            "['./ASAP/Glinka/wav/Denisova10M.wav', './ASAP/Glinka/wav/Kleisen07M.wav']\n",
            "0 0.3233160621761658\n",
            "1 0.3053254437869823\n",
            "['./ASAP/Liszt/wav/Zuber07M.wav', './ASAP/Liszt/wav/LuoJ05M.wav', './ASAP/Liszt/wav/LiuY06M.wav', './ASAP/Liszt/wav/ZhangH07M.wav', './ASAP/Liszt/wav/Huang13M.wav', './ASAP/Liszt/wav/Levitsky06M.wav', './ASAP/Liszt/wav/ChernovA04M.wav', './ASAP/Liszt/wav/WangY02M.wav', './ASAP/Liszt/wav/Min03M.wav', './ASAP/Liszt/wav/Gasanov06M.wav', './ASAP/Liszt/wav/LeeE04M.wav', './ASAP/Liszt/wav/LeungM08M.wav', './ASAP/Liszt/wav/Huang14M.wav', './ASAP/Liszt/wav/Woo06M.wav', './ASAP/Liszt/wav/ChenGuang24M.wav', './ASAP/Liszt/wav/Huang18M.wav', './ASAP/Liszt/wav/LeungM12M.wav', './ASAP/Liszt/wav/VuV06M.wav', './ASAP/Liszt/wav/Tario06M.wav', './ASAP/Liszt/wav/Park03M.wav', './ASAP/Liszt/wav/GiacomelliN11M.wav', './ASAP/Liszt/wav/Huang15M.wav', './ASAP/Liszt/wav/Yeletskiy05M.wav', './ASAP/Liszt/wav/WangA07M.wav', './ASAP/Liszt/wav/Huang16M.wav', './ASAP/Liszt/wav/MunA08M.wav', './ASAP/Liszt/wav/Tysman07M.wav', './ASAP/Liszt/wav/Lu03M.wav', './ASAP/Liszt/wav/Min06M.wav', './ASAP/Liszt/wav/LeungR04M.wav', './ASAP/Liszt/wav/LeungM06M.wav', './ASAP/Liszt/wav/Yang05M.wav', './ASAP/Liszt/wav/Lin07M.wav', './ASAP/Liszt/wav/GarritsonL04M.wav', './ASAP/Liszt/wav/Wang06M.wav', './ASAP/Liszt/wav/BuiJL03M.wav', './ASAP/Liszt/wav/KanM09M.wav', './ASAP/Liszt/wav/Dulu07M.wav', './ASAP/Liszt/wav/Huang17M.wav', './ASAP/Liszt/wav/LiuY03M.wav', './ASAP/Liszt/wav/Jin07M.wav', './ASAP/Liszt/wav/LiuC05M.wav', './ASAP/Liszt/wav/GuoE03M.wav', './ASAP/Liszt/wav/LiA09M.wav', './ASAP/Liszt/wav/Kleisen06M.wav', './ASAP/Liszt/wav/LiuC04M.wav', './ASAP/Liszt/wav/CaoJ03M.wav', './ASAP/Liszt/wav/Avdeeva07M.wav']\n",
            "0 0.36063492063492064\n",
            "1 0.4324324324324324\n",
            "2 0.4065656565656566\n",
            "3 0.34615384615384615\n",
            "4 0.4025974025974026\n",
            "5 0.2468193384223919\n",
            "6 0.42857142857142855\n",
            "7 0.3506988564167725\n",
            "8 0.43216080402010043\n",
            "9 0.4221090909090909\n",
            "10 0.4348348348348348\n",
            "11 0.25903614457831325\n",
            "12 0.2833333333333333\n",
            "13 0.2\n",
            "14 0.31138739756993505\n",
            "15 0.33879093198992444\n",
            "16 0.24508670520231216\n",
            "17 0.3359746434231378\n",
            "18 0.5421530479896238\n",
            "19 0.42857142857142855\n",
            "20 0.39760712298274903\n",
            "21 0.37867395762132605\n",
            "22 0.35529865125240845\n",
            "23 0.43451776649746193\n",
            "24 0.421455938697318\n",
            "25 0.30208333333333337\n",
            "26 0.4525364138623807\n",
            "27 0.6776232616940582\n",
            "28 0.347684809098294\n",
            "29 0.3312990409764603\n",
            "30 0.39948783610755445\n",
            "31 0.32\n",
            "32 0.3495311167945439\n",
            "33 0.27024567788898995\n",
            "34 0.39086294416243655\n",
            "35 0.279766860949209\n",
            "36 0.3981566820276497\n",
            "37 0.39902767389678384\n",
            "38 0.37662337662337664\n",
            "39 0.25839793281653745\n",
            "40 0.3854166666666667\n",
            "41 0.33711790393013097\n",
            "42 0.37848101265822787\n",
            "43 0.33777777777777773\n",
            "44 0.2868421052631579\n",
            "45 0.3768352365415986\n",
            "46 0.38329238329238324\n",
            "47 0.4162257495590829\n",
            "['./ASAP/Debussy/wav/ParkJH13M.wav', './ASAP/Debussy/wav/MunA12M.wav', './ASAP/Debussy/wav/Kleisen11M.wav']\n",
            "0 0.36410256410256414\n",
            "1 0.721037998146432\n",
            "2 0.3179012345679012\n"
          ]
        }
      ],
      "source": [
        "f_list_all = []\n",
        "for g, b in zip(ASAP_wav_path, all_beat_num):\n",
        "    length = len(g)\n",
        "    print(g)\n",
        "    f_list_all.append([f_scores(g[i], b[i], i) for i in range(0, length)])"
      ]
    },
    {
      "cell_type": "code",
      "execution_count": 93,
      "metadata": {},
      "outputs": [],
      "source": [
        "def f_scores_mid(midpath, beat, i):\n",
        "  y = pretty_midi.PrettyMIDI(midpath)\n",
        "  e = y.get_beats()\n",
        "  r = np.array(beat)\n",
        "  f = mir_eval.beat.f_measure(r, e)\n",
        "  print(i, f)\n",
        "  return f"
      ]
    },
    {
      "cell_type": "code",
      "execution_count": 94,
      "metadata": {},
      "outputs": [
        {
          "name": "stdout",
          "output_type": "stream",
          "text": [
            "['./ASAP/Prokofiev/mid/Dossin07.mid', './ASAP/Prokofiev/mid/Song04.mid', './ASAP/Prokofiev/mid/Fab13.mid', './ASAP/Prokofiev/mid/Teo05.mid', './ASAP/Prokofiev/mid/Kociuban16.mid', './ASAP/Prokofiev/mid/Colafelice11.mid', './ASAP/Prokofiev/mid/Guo04.mid', './ASAP/Prokofiev/mid/Lin06.mid']\n",
            "0 0.2587268993839836\n",
            "1 0.2558139534883721\n",
            "2 0.30618892508143325\n",
            "3 0.23027718550106607\n",
            "4 0.24217118997912318\n",
            "5 0.24817518248175185\n",
            "6 0.26609442060085836\n",
            "7 0.22529224229543038\n",
            "['./ASAP/Brahms/mid/Shilyaev03.mid']\n",
            "0 0.17132867132867136\n"
          ]
        }
      ],
      "source": [
        "for g, b in zip(ASAP_mid_path, all_mid_beat_num):\n",
        "    length = len(g)\n",
        "    print(g)\n",
        "    f_list_all.append([f_scores_mid(g[i], b[i], i) for i in range(0, length)])"
      ]
    },
    {
      "cell_type": "code",
      "execution_count": 95,
      "metadata": {},
      "outputs": [],
      "source": [
        "ans = []\n",
        "for i in f_list_all:\n",
        "    ans.append(sum(i)/len(i))"
      ]
    },
    {
      "cell_type": "code",
      "execution_count": 96,
      "metadata": {},
      "outputs": [
        {
          "data": {
            "text/plain": "[0.314320752981574,\n 0.3677246141080997,\n 0.4676805989389658,\n 0.25409249985150234,\n 0.17132867132867136]"
          },
          "execution_count": 96,
          "metadata": {},
          "output_type": "execute_result"
        }
      ],
      "source": [
        "ans"
      ]
    },
    {
      "cell_type": "code",
      "execution_count": 106,
      "metadata": {},
      "outputs": [],
      "source": [
        "Q5_ans_a_df = pd.DataFrame(ans)\n",
        "Q5_ans_a_df.index = l\n",
        "Q5_ans_a_df.columns = [\"p score\"]\n",
        "Q5_ans_a_df.to_csv(\"Q5_ans_a_df.csv\")"
      ]
    }
  ],
  "metadata": {
    "colab": {
      "collapsed_sections": [
        "M-Y2BIxW8sb3",
        "JYpmuxXG9PCj",
        "KXhSqaQrAivV",
        "rkzVts8UAdrO"
      ],
      "name": "MIR_hw2_Task 2_b.ipynb",
      "provenance": []
    },
    "kernelspec": {
      "display_name": "Python 3 (ipykernel)",
      "language": "python",
      "name": "python3"
    },
    "language_info": {
      "codemirror_mode": {
        "name": "ipython",
        "version": 3
      },
      "file_extension": ".py",
      "mimetype": "text/x-python",
      "name": "python",
      "nbconvert_exporter": "python",
      "pygments_lexer": "ipython3",
      "version": "3.9.7"
    }
  },
  "nbformat": 4,
  "nbformat_minor": 0
}